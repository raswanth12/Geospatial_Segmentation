{
 "cells": [
  {
   "cell_type": "code",
   "execution_count": 2,
   "metadata": {},
   "outputs": [],
   "source": [
    "pip install torch"
   ]
  },
  {
   "cell_type": "code",
   "execution_count": null,
   "metadata": {},
   "outputs": [],
   "source": [
    "import random\n",
    "import numpy as np\n",
    "import matplotlib.pyplot as plt\n",
    "import torch\n",
    "import torchvision.transforms as transforms\n",
    "from torchvision import models\n",
    "from PIL import Image\n",
    "import rasterio"
   ]
  },
  {
   "cell_type": "code",
   "execution_count": null,
   "metadata": {},
   "outputs": [],
   "source": [
    "# Check if GPU is available and set device accordingly\n",
    "device = torch.device(\"cuda\" if torch.cuda.is_available() else \"cpu\")\n",
    "\n",
    "# Load a pre-trained segmentation model (e.g., DeepLabV3)\n",
    "model = models.segmentation.deeplabv3_resnet101(\n",
    "    pretrained=True).to(device).eval()\n",
    "\n",
    "# Preprocess the input image\n",
    "\n",
    "\n",
    "def preprocess_image(image_path):\n",
    "    # Open TIF file using rasterio\n",
    "    with rasterio.open(image_path) as dataset:\n",
    "        # Read the image bands\n",
    "        image_bands = dataset.read().transpose(1, 2, 0)\n",
    "\n",
    "    # Normalize the image bands\n",
    "    transform = transforms.Compose([\n",
    "        transforms.ToTensor(),\n",
    "        transforms.Normalize(mean=[0.485, 0.456, 0.406], std=[\n",
    "                             0.229, 0.224, 0.225]),\n",
    "    ])\n",
    "    input_tensor = transform(image_bands).unsqueeze(0).to(device)\n",
    "    return input_tensor\n",
    "\n",
    "\n",
    "# Load and preprocess an example TIF image\n",
    "tif_image_path = \"D:\\College files\\TISS\\Data\\Sentinal.tif\"\n",
    "input_image = preprocess_image(tif_image_path)\n",
    "\n",
    "# Perform inference\n",
    "with torch.no_grad():\n",
    "    output = model(input_image)['out'][0]\n",
    "output_predictions = output.argmax(0).cpu().numpy()\n",
    "\n",
    "# Display the input image and the segmentation mask\n",
    "plt.figure(figsize=(12, 6))\n",
    "plt.subplot(1, 2, 1)\n",
    "plt.imshow(Image.open(tif_image_path))\n",
    "plt.title(\"Input Image\")\n",
    "\n",
    "plt.subplot(1, 2, 2)\n",
    "plt.imshow(output_predictions, cmap='jet', alpha=0.6)\n",
    "plt.title(\"Segmentation Mask\")\n",
    "\n",
    "plt.show()"
   ]
  }
 ],
 "metadata": {
  "kernelspec": {
   "display_name": "Python 3",
   "language": "python",
   "name": "python3"
  },
  "language_info": {
   "codemirror_mode": {
    "name": "ipython",
    "version": 3
   },
   "file_extension": ".py",
   "mimetype": "text/x-python",
   "name": "python",
   "nbconvert_exporter": "python",
   "pygments_lexer": "ipython3",
   "version": "3.12.2"
  }
 },
 "nbformat": 4,
 "nbformat_minor": 2
}
