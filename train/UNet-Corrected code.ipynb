{
  "cells": [
    {
      "cell_type": "code",
      "execution_count": 1,
      "metadata": {
        "colab": {
          "base_uri": "https://localhost:8080/"
        },
        "id": "hm2luxN86Hfb",
        "outputId": "eb2fadcb-b51b-42b0-9de7-1a351fe80334"
      },
      "outputs": [
        {
          "name": "stdout",
          "output_type": "stream",
          "text": [
            "Drive already mounted at /content/drive; to attempt to forcibly remount, call drive.mount(\"/content/drive\", force_remount=True).\n"
          ]
        }
      ],
      "source": [
        "from google.colab import drive\n",
        "drive.mount('/content/drive')\n"
      ]
    },
    {
      "cell_type": "code",
      "execution_count": 2,
      "metadata": {
        "colab": {
          "base_uri": "https://localhost:8080/"
        },
        "id": "6eZuzruK6iy3",
        "outputId": "56791ee1-655e-4db7-d10f-e6a0c60a298d"
      },
      "outputs": [
        {
          "name": "stdout",
          "output_type": "stream",
          "text": [
            "Drive already mounted at /content/drive; to attempt to forcibly remount, call drive.mount(\"/content/drive\", force_remount=True).\n"
          ]
        }
      ],
      "source": [
        "from google.colab import drive\n",
        "drive.mount('/content/drive')"
      ]
    },
    {
      "cell_type": "code",
      "execution_count": 5,
      "metadata": {
        "id": "zwFnJsE6vjf8"
      },
      "outputs": [],
      "source": [
        "import torch\n",
        "import torch.nn as nn\n",
        "import torch.nn.functional as F\n",
        "from PIL import Image\n",
        "from torchvision import transforms\n",
        "import tifffile\n",
        "import numpy as np"
      ]
    },
    {
      "cell_type": "code",
      "execution_count": 4,
      "metadata": {
        "colab": {
          "base_uri": "https://localhost:8080/",
          "height": 564
        },
        "id": "NGml8m54GfjF",
        "outputId": "98c8f614-d4ac-4433-d744-47cc37ade397"
      },
      "outputs": [
        {
          "name": "stdout",
          "output_type": "stream",
          "text": [
            "Requirement already satisfied: Pillow in /usr/local/lib/python3.10/dist-packages (9.4.0)\n",
            "Requirement already satisfied: tifffile in /usr/local/lib/python3.10/dist-packages (2024.2.12)\n",
            "Requirement already satisfied: imagecodecs in /usr/local/lib/python3.10/dist-packages (2024.1.1)\n",
            "Requirement already satisfied: numpy in /usr/local/lib/python3.10/dist-packages (from tifffile) (1.26.4)\n",
            "Collecting tifffile\n",
            "  Using cached tifffile-2024.2.12-py3-none-any.whl (224 kB)\n",
            "Collecting imagecodecs\n",
            "  Using cached imagecodecs-2024.1.1-cp310-cp310-manylinux_2_17_x86_64.manylinux2014_x86_64.whl (39.6 MB)\n",
            "Collecting numpy (from tifffile)\n",
            "  Using cached numpy-1.26.4-cp310-cp310-manylinux_2_17_x86_64.manylinux2014_x86_64.whl (18.2 MB)\n",
            "Installing collected packages: numpy, tifffile, imagecodecs\n",
            "  Attempting uninstall: numpy\n",
            "    Found existing installation: numpy 1.26.4\n",
            "    Uninstalling numpy-1.26.4:\n",
            "      Successfully uninstalled numpy-1.26.4\n",
            "  Attempting uninstall: tifffile\n",
            "    Found existing installation: tifffile 2024.2.12\n",
            "    Uninstalling tifffile-2024.2.12:\n",
            "      Successfully uninstalled tifffile-2024.2.12\n",
            "  Attempting uninstall: imagecodecs\n",
            "    Found existing installation: imagecodecs 2024.1.1\n",
            "    Uninstalling imagecodecs-2024.1.1:\n",
            "      Successfully uninstalled imagecodecs-2024.1.1\n",
            "Successfully installed imagecodecs-2024.1.1 numpy-1.26.4 tifffile-2024.2.12\n"
          ]
        },
        {
          "data": {
            "application/vnd.colab-display-data+json": {
              "id": "f8dbc6e770ca4f97886a5738d9ec08bb",
              "pip_warning": {
                "packages": [
                  "imagecodecs",
                  "tifffile"
                ]
              }
            }
          },
          "metadata": {},
          "output_type": "display_data"
        }
      ],
      "source": [
        "!pip install Pillow\n",
        "!pip install --upgrade tifffile imagecodecs\n",
        "!pip install --force-reinstall tifffile imagecodecs\n"
      ]
    },
    {
      "cell_type": "code",
      "execution_count": 1,
      "metadata": {
        "colab": {
          "base_uri": "https://localhost:8080/"
        },
        "id": "ERKoptsKPy2N",
        "outputId": "b03a67b9-788f-436e-bdc2-73548f132b0f"
      },
      "outputs": [
        {
          "name": "stdout",
          "output_type": "stream",
          "text": [
            "Requirement already satisfied: imagecodecs[all] in /usr/local/lib/python3.10/dist-packages (2024.1.1)\n",
            "Requirement already satisfied: numpy in /usr/local/lib/python3.10/dist-packages (from imagecodecs[all]) (1.26.4)\n",
            "Requirement already satisfied: matplotlib in /usr/local/lib/python3.10/dist-packages (from imagecodecs[all]) (3.7.1)\n",
            "Requirement already satisfied: tifffile in /usr/local/lib/python3.10/dist-packages (from imagecodecs[all]) (2024.2.12)\n",
            "Requirement already satisfied: numcodecs in /usr/local/lib/python3.10/dist-packages (from imagecodecs[all]) (0.12.1)\n",
            "Requirement already satisfied: contourpy>=1.0.1 in /usr/local/lib/python3.10/dist-packages (from matplotlib->imagecodecs[all]) (1.2.0)\n",
            "Requirement already satisfied: cycler>=0.10 in /usr/local/lib/python3.10/dist-packages (from matplotlib->imagecodecs[all]) (0.12.1)\n",
            "Requirement already satisfied: fonttools>=4.22.0 in /usr/local/lib/python3.10/dist-packages (from matplotlib->imagecodecs[all]) (4.49.0)\n",
            "Requirement already satisfied: kiwisolver>=1.0.1 in /usr/local/lib/python3.10/dist-packages (from matplotlib->imagecodecs[all]) (1.4.5)\n",
            "Requirement already satisfied: packaging>=20.0 in /usr/local/lib/python3.10/dist-packages (from matplotlib->imagecodecs[all]) (24.0)\n",
            "Requirement already satisfied: pillow>=6.2.0 in /usr/local/lib/python3.10/dist-packages (from matplotlib->imagecodecs[all]) (9.4.0)\n",
            "Requirement already satisfied: pyparsing>=2.3.1 in /usr/local/lib/python3.10/dist-packages (from matplotlib->imagecodecs[all]) (3.1.2)\n",
            "Requirement already satisfied: python-dateutil>=2.7 in /usr/local/lib/python3.10/dist-packages (from matplotlib->imagecodecs[all]) (2.8.2)\n",
            "Requirement already satisfied: six>=1.5 in /usr/local/lib/python3.10/dist-packages (from python-dateutil>=2.7->matplotlib->imagecodecs[all]) (1.16.0)\n"
          ]
        }
      ],
      "source": [
        "!pip install -U imagecodecs[all]\n"
      ]
    },
    {
      "cell_type": "code",
      "execution_count": 1,
      "metadata": {
        "colab": {
          "base_uri": "https://localhost:8080/"
        },
        "id": "jtIOVZNTxmfB",
        "outputId": "23bae5e8-6625-4ade-b426-2980fd430c05"
      },
      "outputs": [
        {
          "name": "stdout",
          "output_type": "stream",
          "text": [
            "Collecting rasterio\n",
            "  Using cached rasterio-1.3.9-cp310-cp310-manylinux2014_x86_64.whl (20.6 MB)\n",
            "Collecting affine (from rasterio)\n",
            "  Using cached affine-2.4.0-py3-none-any.whl (15 kB)\n",
            "Requirement already satisfied: attrs in /usr/local/lib/python3.10/dist-packages (from rasterio) (23.2.0)\n",
            "Requirement already satisfied: certifi in /usr/local/lib/python3.10/dist-packages (from rasterio) (2024.2.2)\n",
            "Requirement already satisfied: click>=4.0 in /usr/local/lib/python3.10/dist-packages (from rasterio) (8.1.7)\n",
            "Requirement already satisfied: cligj>=0.5 in /usr/local/lib/python3.10/dist-packages (from rasterio) (0.7.2)\n",
            "Requirement already satisfied: numpy in /usr/local/lib/python3.10/dist-packages (from rasterio) (1.26.4)\n",
            "Collecting snuggs>=1.4.1 (from rasterio)\n",
            "  Using cached snuggs-1.4.7-py3-none-any.whl (5.4 kB)\n",
            "Requirement already satisfied: click-plugins in /usr/local/lib/python3.10/dist-packages (from rasterio) (1.1.1)\n",
            "Requirement already satisfied: setuptools in /usr/local/lib/python3.10/dist-packages (from rasterio) (67.7.2)\n",
            "Requirement already satisfied: pyparsing>=2.1.6 in /usr/local/lib/python3.10/dist-packages (from snuggs>=1.4.1->rasterio) (3.1.2)\n",
            "Installing collected packages: snuggs, affine, rasterio\n",
            "Successfully installed affine-2.4.0 rasterio-1.3.9 snuggs-1.4.7\n"
          ]
        }
      ],
      "source": [
        "!pip install rasterio\n"
      ]
    },
    {
      "cell_type": "code",
      "execution_count": 3,
      "metadata": {
        "colab": {
          "base_uri": "https://localhost:8080/"
        },
        "id": "9Hgdul_hly-Z",
        "outputId": "fbb1a599-58f6-49a8-d416-1658ee5ce8f4"
      },
      "outputs": [
        {
          "name": "stdout",
          "output_type": "stream",
          "text": [
            "Input image shape: torch.Size([1, 3, 846, 1262])\n"
          ]
        }
      ],
      "source": [
        "import numpy as np\n",
        "import torch\n",
        "import torchvision.transforms as transforms\n",
        "import rasterio\n",
        "\n",
        "def load_image(file_path, bands=[4, 3, 2]):\n",
        "    # Open TIF file using rasterio\n",
        "    with rasterio.open(file_path) as dataset:\n",
        "        # Read the specified bands of the image\n",
        "        image_bands = dataset.read(bands).transpose(1, 2, 0)\n",
        "\n",
        "    # Convert image to float\n",
        "    # Assuming 16-bit TIF, adjust if needed\n",
        "    image_bands = image_bands.astype(np.float32) / 65535.0\n",
        "\n",
        "    # Normalize the image bands with custom mean and std values\n",
        "    transform = transforms.Compose([\n",
        "        transforms.ToTensor(),\n",
        "        transforms.Normalize(mean=[0.5, 0.5, 0.5], std=[0.2, 0.2, 0.2]),\n",
        "    ])\n",
        "\n",
        "    input_tensor = transform(image_bands).unsqueeze(0)\n",
        "    return input_tensor\n",
        "\n",
        "# Example usage:\n",
        "file_path = \"/content/drive/MyDrive/Sentinal.tif\"\n",
        "input_image = load_image(file_path)\n",
        "print(\"Input image shape:\", input_image.shape)\n"
      ]
    },
    {
      "cell_type": "code",
      "execution_count": 7,
      "metadata": {
        "colab": {
          "base_uri": "https://localhost:8080/"
        },
        "id": "S_dneZ4lyaVe",
        "outputId": "c344584e-0a36-4c04-ede2-5fd5986e991b"
      },
      "outputs": [
        {
          "name": "stdout",
          "output_type": "stream",
          "text": [
            "torch.Size([1, 2, 1262, 23])\n"
          ]
        }
      ],
      "source": [
        "import torch\n",
        "import torch.nn as nn\n",
        "import torch.nn.functional as F\n",
        "import tifffile\n",
        "\n",
        "class DoubleConv(nn.Module):\n",
        "    def __init__(self, in_channels, out_channels):\n",
        "        super(DoubleConv, self).__init__()\n",
        "        self.double_conv = nn.Sequential(\n",
        "            nn.Conv2d(in_channels, out_channels, kernel_size=3, padding=1),\n",
        "            nn.ReLU(inplace=True),\n",
        "            nn.Conv2d(out_channels, out_channels, kernel_size=3, padding=1),\n",
        "            nn.ReLU(inplace=True)\n",
        "        )\n",
        "\n",
        "    def forward(self, x):\n",
        "        return self.double_conv(x)\n",
        "\n",
        "class UNet(nn.Module):\n",
        "    def __init__(self, in_channels, out_channels):\n",
        "        super(UNet, self).__init__()\n",
        "\n",
        "        self.max_pool_2x2 = nn.MaxPool2d(kernel_size=2, stride=2)\n",
        "        self.down_conv_1 = DoubleConv(in_channels, 64)  # Update input channels\n",
        "        self.down_conv_2 = DoubleConv(64, 128)\n",
        "        self.down_conv_3 = DoubleConv(128, 256)\n",
        "        self.down_conv_4 = DoubleConv(256, 512)\n",
        "        self.down_conv_5 = DoubleConv(512, 1024)\n",
        "\n",
        "        self.up_trans_1 = nn.ConvTranspose2d(\n",
        "            1024, 512, kernel_size=2, stride=2)\n",
        "        self.up_conv_1 = DoubleConv(1024, 512)\n",
        "\n",
        "        self.up_trans_2 = nn.ConvTranspose2d(512, 256, kernel_size=2, stride=2)\n",
        "        self.up_conv_2 = DoubleConv(512, 256)\n",
        "\n",
        "        self.up_trans_3 = nn.ConvTranspose2d(256, 128, kernel_size=2, stride=2)\n",
        "        self.up_conv_3 = DoubleConv(256, 128)\n",
        "\n",
        "        self.up_trans_4 = nn.ConvTranspose2d(128, 64, kernel_size=2, stride=2)\n",
        "        self.up_conv_4 = DoubleConv(128, 64)\n",
        "\n",
        "        self.out = nn.Conv2d(64, out_channels, kernel_size=1)\n",
        "\n",
        "    def forward(self, x):\n",
        "        # Encoder\n",
        "        x1 = self.down_conv_1(x)\n",
        "        x2 = self.max_pool_2x2(x1)\n",
        "        x3 = self.down_conv_2(x2)\n",
        "        x4 = self.max_pool_2x2(x3)\n",
        "        x5 = self.down_conv_3(x4)\n",
        "        x6 = self.max_pool_2x2(x5)\n",
        "        x7 = self.down_conv_4(x6)\n",
        "        x8 = self.max_pool_2x2(x7)\n",
        "        x9 = self.down_conv_5(x8)\n",
        "\n",
        "        # Decoder\n",
        "        x = self.up_trans_1(x9)\n",
        "        x = F.interpolate(x, size=x7.size()[2:], mode='bilinear', align_corners=True)\n",
        "        x = self.up_conv_1(torch.cat([x, x7], 1))\n",
        "\n",
        "        x = self.up_trans_2(x)\n",
        "        x = F.interpolate(x, size=x5.size()[2:], mode='bilinear', align_corners=True)\n",
        "        x = self.up_conv_2(torch.cat([x, x5], 1))\n",
        "\n",
        "        x = self.up_trans_3(x)\n",
        "        x = F.interpolate(x, size=x3.size()[2:], mode='bilinear', align_corners=True)\n",
        "        x = self.up_conv_3(torch.cat([x, x3], 1))\n",
        "\n",
        "        x = self.up_trans_4(x)\n",
        "        x = F.interpolate(x, size=x1.size()[2:], mode='bilinear', align_corners=True)\n",
        "        x = self.up_conv_4(torch.cat([x, x1], 1))\n",
        "\n",
        "        x = self.out(x)\n",
        "        return x\n",
        "\n",
        "def load_image(file_path):\n",
        "    # Load the image using tifffile\n",
        "    image = tifffile.imread(file_path)\n",
        "\n",
        "    # Convert the image to grayscale\n",
        "    # Assuming it's a single-channel image\n",
        "    image = image[np.newaxis, ...]  # Add batch dimension\n",
        "\n",
        "    # Transform the image to tensor\n",
        "    image_tensor = torch.from_numpy(image).float()\n",
        "\n",
        "    return image_tensor\n",
        "\n",
        "# Example usage:\n",
        "# Update with your image file path\n",
        "file_path = \"/content/drive/MyDrive/Sentinal.tif\"\n",
        "#file_path= gdal.Open(\"D:\\College files\\TISS\\Data\\Sentinal.tif\").ReadAsArray()\n",
        "image = load_image(file_path)\n",
        "model = UNet(in_channels=image.size(1), out_channels=2)  # Adjust out_channels if needed\n",
        "output = model(image)\n",
        "print(output.size())\n"
      ]
    }
  ],
  "metadata": {
    "colab": {
      "name": "Welcome To Colaboratory",
      "provenance": []
    },
    "kernelspec": {
      "display_name": "Python 3",
      "name": "python3"
    }
  },
  "nbformat": 4,
  "nbformat_minor": 0
}
