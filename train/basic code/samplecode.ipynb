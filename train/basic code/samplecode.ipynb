{
 "cells": [
  {
   "cell_type": "markdown",
   "metadata": {},
   "source": [
    "To open a TIF flie using python "
   ]
  },
  {
   "cell_type": "code",
   "execution_count": null,
   "metadata": {},
   "outputs": [],
   "source": [
    "import rasterio\n",
    "import matplotlib.pyplot as plt\n",
    "\n",
    "# Specify the path to your TIFF file\n",
    "tif_path = 'path/to/your/file.tif'\n",
    "\n",
    "# Open the TIFF file\n",
    "with rasterio.open(tif_path) as src:\n",
    "    # Read the first band\n",
    "    band = src.read(1)\n",
    "\n",
    "    # Display the image using matplotlib\n",
    "    # You can choose a different colormap if needed\n",
    "    plt.imshow(band, cmap='gray')\n",
    "    plt.colorbar()\n",
    "    plt.title('TIFF Image')\n",
    "    plt.show()"
   ]
  }
 ],
 "metadata": {
  "language_info": {
   "name": "python"
  }
 },
 "nbformat": 4,
 "nbformat_minor": 2
}
